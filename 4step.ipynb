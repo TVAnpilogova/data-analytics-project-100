{
 "cells": [
  {
   "cell_type": "code",
   "execution_count": 6,
   "id": "0c6a9dce-4071-4499-bcda-24ba7e80118a",
   "metadata": {},
   "outputs": [],
   "source": [
    "# Импорт библиотек\n",
    "import pandas as pd\n",
    "import matplotlib.pyplot as plt\n",
    "import seaborn as sns\n",
    "import requests\n",
    "from dotenv import load_dotenv, find_dotenv\n",
    "import os"
   ]
  },
  {
   "cell_type": "code",
   "execution_count": 7,
   "id": "d6dbfb2e-1873-4251-a56d-fa4bd4144cbb",
   "metadata": {},
   "outputs": [],
   "source": [
    "# Загрузка переменных окружения\n",
    "dotenv_path = find_dotenv()\n",
    "if dotenv_path:\n",
    "    load_dotenv(dotenv_path)\n",
    "else:\n",
    "    print(\"Файл .env не найден\")"
   ]
  },
  {
   "cell_type": "code",
   "execution_count": 8,
   "id": "1f60422d-4b01-48cc-8401-af5ee160c965",
   "metadata": {},
   "outputs": [],
   "source": [
    "# Проверка наличия переменной окружения API_URL\n",
    "api_url = os.getenv(\"API_URL\")\n",
    "if not api_url:\n",
    "    raise ValueError(\"Переменная окружения API_URL не найдена. Проверьте файл .env\")\n"
   ]
  },
  {
   "cell_type": "code",
   "execution_count": 9,
   "id": "ebc68c00-64df-4ddb-99e1-87636a363772",
   "metadata": {},
   "outputs": [],
   "source": [
    "# Функции для запроса данных по API\n",
    "def fetch_visits(api_url, start_date, end_date):\n",
    "    response = requests.get(f\"{api_url}/visits\", params={'begin': start_date, 'end': end_date})\n",
    "    if response.status_code == 200:\n",
    "        return response.json()\n",
    "    else:\n",
    "        response.raise_for_status()\n",
    "\n",
    "def fetch_registrations(api_url, start_date, end_date):\n",
    "    response = requests.get(f\"{api_url}/registrations\", params={'begin': start_date, 'end': end_date})\n",
    "    if response.status_code == 200:\n",
    "        return response.json()\n",
    "    else:\n",
    "        response.raise_for_status()"
   ]
  },
  {
   "cell_type": "code",
   "execution_count": 10,
   "id": "a13533ff-f737-4596-8b08-ed76809ae741",
   "metadata": {},
   "outputs": [],
   "source": [
    "# Запрос данных\n",
    "start_date = \"2023-03-01\"\n",
    "end_date = \"2023-09-01\"\n",
    "\n",
    "visits_data = fetch_visits(api_url, start_date, end_date)\n",
    "registrations_data = fetch_registrations(api_url, start_date, end_date)\n"
   ]
  },
  {
   "cell_type": "code",
   "execution_count": 11,
   "id": "3f9d8ddd-1549-44c3-876e-6040482ce510",
   "metadata": {},
   "outputs": [],
   "source": [
    "# Преобразование данных в DataFrame\n",
    "visits_df = pd.DataFrame(visits_data)\n",
    "registrations_df = pd.DataFrame(registrations_data)"
   ]
  },
  {
   "cell_type": "code",
   "execution_count": 12,
   "id": "65137809-e4f3-4d06-a158-f8a1f6d76c32",
   "metadata": {},
   "outputs": [],
   "source": [
    "# Удаление визитов ботов\n",
    "visits_df = visits_df[~visits_df['user_agent'].str.contains('bot')]\n",
    "\n",
    "# Преобразование колонок datetime в тип datetime\n",
    "visits_df['datetime'] = pd.to_datetime(visits_df['datetime'])\n",
    "registrations_df['datetime'] = pd.to_datetime(registrations_df['datetime'])\n",
    "\n",
    "# Добавление колонки date_group, которая содержит только дату (без времени)\n",
    "visits_df['date_group'] = visits_df['datetime'].dt.date\n",
    "registrations_df['date_group'] = registrations_df['datetime'].dt.date\n"
   ]
  },
  {
   "cell_type": "code",
   "execution_count": 13,
   "id": "adb70509-5d1a-44ce-8e65-022826a94683",
   "metadata": {},
   "outputs": [],
   "source": [
    "# Группировка данных визитов\n",
    "visits_agg = visits_df.groupby(['date_group', 'platform']).size().reset_index(name='visits')\n",
    "\n",
    "# Группировка данных регистраций\n",
    "registrations_agg = registrations_df.groupby(['date_group', 'platform']).size().reset_index(name='registrations')\n",
    "\n",
    "# Объединение данных визитов и регистраций\n",
    "merged_df = pd.merge(visits_agg, registrations_agg, on=['date_group', 'platform'], how='left')\n",
    "merged_df['registrations'] = merged_df['registrations'].fillna(0)  # Заполнение NaN значений в регистрациях нулями\n",
    "\n",
    "# Расчет конверсии\n",
    "merged_df['conversion'] = (merged_df['registrations'] / merged_df['visits']) * 100\n",
    "\n",
    "# Сортировка данных по дате\n",
    "merged_df = merged_df.sort_values(by='date_group')\n",
    "\n",
    "# Сохранение данных в формате JSON\n",
    "merged_df.to_json('conversion.json', orient='records', date_format='iso')\n"
   ]
  },
  {
   "cell_type": "code",
   "execution_count": 14,
   "id": "59507c92-78a9-4c43-8940-f55d0a0160b8",
   "metadata": {},
   "outputs": [],
   "source": [
    "# Загрузка данных о рекламных кампаниях из CSV\n",
    "ads_df = pd.read_csv('ads.csv')\n",
    "\n",
    "# Преобразование колонки date в тип datetime и выделение только даты\n",
    "ads_df['date'] = pd.to_datetime(ads_df['date']).dt.date\n",
    "\n",
    "# Агрегирование данных о рекламных кампаниях по дате\n",
    "ads_agg = ads_df.groupby('date').agg({'cost': 'sum', 'utm_campaign': 'first'}).reset_index()\n",
    "\n",
    "# Переименование колонки date для соответствия с date_group в основном датафрейме\n",
    "ads_agg = ads_agg.rename(columns={'date': 'date_group'})\n",
    "ads_agg['utm_campaign'] = ads_agg['utm_campaign'].fillna('none')\n"
   ]
  },
  {
   "cell_type": "code",
   "execution_count": 15,
   "id": "625275e4-a00c-4a9e-bc7b-cfc3095881fa",
   "metadata": {},
   "outputs": [],
   "source": [
    "# Объединение данных по дате и платформам\n",
    "final_df = pd.merge(merged_df, ads_agg, on='date_group', how='left')\n",
    "\n",
    "# Заполнение NaN значений в затратах и названиях кампаний\n",
    "final_df['cost'] = final_df['cost'].fillna(0)\n",
    "final_df['utm_campaign'] = final_df['utm_campaign'].fillna('none')\n",
    "\n",
    "# Сохранение итогового датафрейма в формате JSON\n",
    "final_df.to_json('ads.json', orient='records', date_format='iso')\n"
   ]
  },
  {
   "cell_type": "code",
   "execution_count": 16,
   "id": "65c7d61f-8df9-4e62-86e6-fb0f4f29f4c1",
   "metadata": {},
   "outputs": [
    {
     "name": "stdout",
     "output_type": "stream",
     "text": [
      "[{\"date_group\":\"2023-03-01T00:00:00.000\",\"platform\":\"android\",\"visits\":75,\"registrations\":61,\"conversion\":81.3333333333,\"cost\":212.0,\"utm_campaign\":\"advanced_algorithms_series\"},{\"date_group\":\"2023-03-01T00:00:00.000\",\"platform\":\"ios\",\"visits\":22,\"registrations\":18,\"conversion\":81.8181818182,\"cost\":212.0,\"utm_campaign\":\"advanced_algorithms_series\"},{\"date_group\":\"2023-03-01T00:00:00.000\",\"platform\":\"web\",\"visits\":844,\"registrations\":8,\"conversion\":0.9478672986,\"cost\":212.0,\"utm_campaign\":\"advanced_algorithms_series\"},{\"date_group\":\"2023-03-02T00:00:00.000\",\"platform\":\"android\",\"visits\":67,\"registrations\":59,\"conversion\":88.0597014925,\"cost\":252.0,\"utm_campaign\":\"advanced_algorithms_series\"},{\"date_group\":\"2023-03-02T00:00:00.000\",\"platform\":\"ios\",\"visits\":31,\"registrations\":24,\"conversion\":77.4193548387,\"cost\":252.0,\"utm_campaign\":\"advanced_algorithms_series\"},{\"date_group\":\"2023-03-02T00:00:00.000\",\"platform\":\"web\",\"visits\":1128,\"registrations\":23,\"conversion\":2.0390070922,\"cost\":252.\n"
     ]
    }
   ],
   "source": [
    "# Проверка сохранения файла\n",
    "with open('ads.json', 'r') as f:\n",
    "    data = f.read()\n",
    "    print(data[:1000])  # Вывод первых 1000 символов для проверки\n"
   ]
  },
  {
   "cell_type": "code",
   "execution_count": null,
   "id": "ee2b61e8-f1e3-4f57-9ad9-ede0cf4bcdc5",
   "metadata": {},
   "outputs": [],
   "source": []
  }
 ],
 "metadata": {
  "kernelspec": {
   "display_name": "Python 3 (ipykernel)",
   "language": "python",
   "name": "python3"
  },
  "language_info": {
   "codemirror_mode": {
    "name": "ipython",
    "version": 3
   },
   "file_extension": ".py",
   "mimetype": "text/x-python",
   "name": "python",
   "nbconvert_exporter": "python",
   "pygments_lexer": "ipython3",
   "version": "3.11.7"
  }
 },
 "nbformat": 4,
 "nbformat_minor": 5
}
